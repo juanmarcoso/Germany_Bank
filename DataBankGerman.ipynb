{
  "cells": [
    {
      "cell_type": "markdown",
      "metadata": {
        "id": "8q7qOBJ7t036"
      },
      "source": [
        "# INMERSIÓN DE DATOS CON PYTHON"
      ]
    },
    {
      "cell_type": "markdown",
      "metadata": {
        "id": "UllmZmBHt7Zx"
      },
      "source": [
        "#**PROBLEMA DE NEGOCIO**\n",
        "\n",
        "\n",
        "---\n",
        "\n",
        "\n"
      ]
    },
    {
      "cell_type": "markdown",
      "metadata": {
        "id": "DCI75WnBt-jQ"
      },
      "source": [
        "La importancia de reducir el riesgo crediticio ha llevado a una institución financiera alemana a buscar soluciones innovadoras. Como científicos de datos, hemos sido convocados para construir un modelo de machine learning preciso y confiable que sea capaz de evaluar con mayor precisión la probabilidad de incumplimiento crediticio de sus clientes."
      ]
    },
    {
      "cell_type": "code",
      "execution_count": 1,
      "metadata": {
        "colab": {
          "base_uri": "https://localhost:8080/"
        },
        "id": "qwuqPl3Zt2rg",
        "outputId": "b77faa81-7236-4655-e21b-81d34457fb34"
      },
      "outputs": [],
      "source": [
        "import pandas as pd\n",
        "import matplotlib.pyplot as plt\n",
        "import seaborn as sns\n",
        "import warnings\n",
        "\n",
        "warnings.filterwarnings(\"ignore\")"
      ]
    },
    {
      "cell_type": "code",
      "execution_count": 3,
      "metadata": {
        "id": "bWGcM1ok0MnY"
      },
      "outputs": [],
      "source": [
        "pd.set_option('display.max_columns', None)\n",
        "global df_banco, resultados"
      ]
    },
    {
      "cell_type": "code",
      "execution_count": 4,
      "metadata": {
        "colab": {
          "base_uri": "https://localhost:8080/",
          "height": 487
        },
        "id": "XM-nacNzuPW4",
        "outputId": "da4b94e0-b9d1-4f5b-d17d-68b51b99d7b9"
      },
      "outputs": [
        {
          "data": {
            "text/html": [
              "<div>\n",
              "<style scoped>\n",
              "    .dataframe tbody tr th:only-of-type {\n",
              "        vertical-align: middle;\n",
              "    }\n",
              "\n",
              "    .dataframe tbody tr th {\n",
              "        vertical-align: top;\n",
              "    }\n",
              "\n",
              "    .dataframe thead th {\n",
              "        text-align: right;\n",
              "    }\n",
              "</style>\n",
              "<table border=\"1\" class=\"dataframe\">\n",
              "  <thead>\n",
              "    <tr style=\"text-align: right;\">\n",
              "      <th></th>\n",
              "      <th>default</th>\n",
              "      <th>account_check_status</th>\n",
              "      <th>duration_in_month</th>\n",
              "      <th>credit_history</th>\n",
              "      <th>purpose</th>\n",
              "      <th>credit_amount</th>\n",
              "      <th>savings</th>\n",
              "      <th>present_emp_since</th>\n",
              "      <th>installment_as_income_perc</th>\n",
              "      <th>personal_status_sex</th>\n",
              "      <th>other_debtors</th>\n",
              "      <th>present_res_since</th>\n",
              "      <th>property</th>\n",
              "      <th>age</th>\n",
              "      <th>other_installment_plans</th>\n",
              "      <th>housing</th>\n",
              "      <th>credits_this_bank</th>\n",
              "      <th>job</th>\n",
              "      <th>people_under_maintenance</th>\n",
              "      <th>telephone</th>\n",
              "      <th>foreign_worker</th>\n",
              "    </tr>\n",
              "  </thead>\n",
              "  <tbody>\n",
              "    <tr>\n",
              "      <th>0</th>\n",
              "      <td>0</td>\n",
              "      <td>&lt; 0 DM</td>\n",
              "      <td>6</td>\n",
              "      <td>critical account/ other credits existing (not ...</td>\n",
              "      <td>domestic appliances</td>\n",
              "      <td>1169</td>\n",
              "      <td>unknown/ no savings account</td>\n",
              "      <td>.. &gt;= 7 years</td>\n",
              "      <td>4</td>\n",
              "      <td>male : single</td>\n",
              "      <td>none</td>\n",
              "      <td>4</td>\n",
              "      <td>real estate</td>\n",
              "      <td>67</td>\n",
              "      <td>none</td>\n",
              "      <td>own</td>\n",
              "      <td>2</td>\n",
              "      <td>skilled employee / official</td>\n",
              "      <td>1</td>\n",
              "      <td>yes, registered under the customers name</td>\n",
              "      <td>yes</td>\n",
              "    </tr>\n",
              "    <tr>\n",
              "      <th>1</th>\n",
              "      <td>1</td>\n",
              "      <td>0 &lt;= ... &lt; 200 DM</td>\n",
              "      <td>48</td>\n",
              "      <td>existing credits paid back duly till now</td>\n",
              "      <td>domestic appliances</td>\n",
              "      <td>5951</td>\n",
              "      <td>... &lt; 100 DM</td>\n",
              "      <td>1 &lt;= ... &lt; 4 years</td>\n",
              "      <td>2</td>\n",
              "      <td>female : divorced/separated/married</td>\n",
              "      <td>none</td>\n",
              "      <td>2</td>\n",
              "      <td>real estate</td>\n",
              "      <td>22</td>\n",
              "      <td>none</td>\n",
              "      <td>own</td>\n",
              "      <td>1</td>\n",
              "      <td>skilled employee / official</td>\n",
              "      <td>1</td>\n",
              "      <td>none</td>\n",
              "      <td>yes</td>\n",
              "    </tr>\n",
              "    <tr>\n",
              "      <th>2</th>\n",
              "      <td>0</td>\n",
              "      <td>no checking account</td>\n",
              "      <td>12</td>\n",
              "      <td>critical account/ other credits existing (not ...</td>\n",
              "      <td>(vacation - does not exist?)</td>\n",
              "      <td>2096</td>\n",
              "      <td>... &lt; 100 DM</td>\n",
              "      <td>4 &lt;= ... &lt; 7 years</td>\n",
              "      <td>2</td>\n",
              "      <td>male : single</td>\n",
              "      <td>none</td>\n",
              "      <td>3</td>\n",
              "      <td>real estate</td>\n",
              "      <td>49</td>\n",
              "      <td>none</td>\n",
              "      <td>own</td>\n",
              "      <td>1</td>\n",
              "      <td>unskilled - resident</td>\n",
              "      <td>2</td>\n",
              "      <td>none</td>\n",
              "      <td>yes</td>\n",
              "    </tr>\n",
              "    <tr>\n",
              "      <th>3</th>\n",
              "      <td>0</td>\n",
              "      <td>&lt; 0 DM</td>\n",
              "      <td>42</td>\n",
              "      <td>existing credits paid back duly till now</td>\n",
              "      <td>radio/television</td>\n",
              "      <td>7882</td>\n",
              "      <td>... &lt; 100 DM</td>\n",
              "      <td>4 &lt;= ... &lt; 7 years</td>\n",
              "      <td>2</td>\n",
              "      <td>male : single</td>\n",
              "      <td>guarantor</td>\n",
              "      <td>4</td>\n",
              "      <td>if not A121 : building society savings agreeme...</td>\n",
              "      <td>45</td>\n",
              "      <td>none</td>\n",
              "      <td>for free</td>\n",
              "      <td>1</td>\n",
              "      <td>skilled employee / official</td>\n",
              "      <td>2</td>\n",
              "      <td>none</td>\n",
              "      <td>yes</td>\n",
              "    </tr>\n",
              "    <tr>\n",
              "      <th>4</th>\n",
              "      <td>1</td>\n",
              "      <td>&lt; 0 DM</td>\n",
              "      <td>24</td>\n",
              "      <td>delay in paying off in the past</td>\n",
              "      <td>car (new)</td>\n",
              "      <td>4870</td>\n",
              "      <td>... &lt; 100 DM</td>\n",
              "      <td>1 &lt;= ... &lt; 4 years</td>\n",
              "      <td>3</td>\n",
              "      <td>male : single</td>\n",
              "      <td>none</td>\n",
              "      <td>4</td>\n",
              "      <td>unknown / no property</td>\n",
              "      <td>53</td>\n",
              "      <td>none</td>\n",
              "      <td>for free</td>\n",
              "      <td>2</td>\n",
              "      <td>skilled employee / official</td>\n",
              "      <td>2</td>\n",
              "      <td>none</td>\n",
              "      <td>yes</td>\n",
              "    </tr>\n",
              "  </tbody>\n",
              "</table>\n",
              "</div>"
            ],
            "text/plain": [
              "   default account_check_status  duration_in_month  \\\n",
              "0        0               < 0 DM                  6   \n",
              "1        1    0 <= ... < 200 DM                 48   \n",
              "2        0  no checking account                 12   \n",
              "3        0               < 0 DM                 42   \n",
              "4        1               < 0 DM                 24   \n",
              "\n",
              "                                      credit_history  \\\n",
              "0  critical account/ other credits existing (not ...   \n",
              "1           existing credits paid back duly till now   \n",
              "2  critical account/ other credits existing (not ...   \n",
              "3           existing credits paid back duly till now   \n",
              "4                    delay in paying off in the past   \n",
              "\n",
              "                        purpose  credit_amount                      savings  \\\n",
              "0           domestic appliances           1169  unknown/ no savings account   \n",
              "1           domestic appliances           5951                 ... < 100 DM   \n",
              "2  (vacation - does not exist?)           2096                 ... < 100 DM   \n",
              "3              radio/television           7882                 ... < 100 DM   \n",
              "4                     car (new)           4870                 ... < 100 DM   \n",
              "\n",
              "    present_emp_since  installment_as_income_perc  \\\n",
              "0       .. >= 7 years                           4   \n",
              "1  1 <= ... < 4 years                           2   \n",
              "2  4 <= ... < 7 years                           2   \n",
              "3  4 <= ... < 7 years                           2   \n",
              "4  1 <= ... < 4 years                           3   \n",
              "\n",
              "                   personal_status_sex other_debtors  present_res_since  \\\n",
              "0                        male : single          none                  4   \n",
              "1  female : divorced/separated/married          none                  2   \n",
              "2                        male : single          none                  3   \n",
              "3                        male : single     guarantor                  4   \n",
              "4                        male : single          none                  4   \n",
              "\n",
              "                                            property  age  \\\n",
              "0                                        real estate   67   \n",
              "1                                        real estate   22   \n",
              "2                                        real estate   49   \n",
              "3  if not A121 : building society savings agreeme...   45   \n",
              "4                              unknown / no property   53   \n",
              "\n",
              "  other_installment_plans   housing  credits_this_bank  \\\n",
              "0                    none       own                  2   \n",
              "1                    none       own                  1   \n",
              "2                    none       own                  1   \n",
              "3                    none  for free                  1   \n",
              "4                    none  for free                  2   \n",
              "\n",
              "                           job  people_under_maintenance  \\\n",
              "0  skilled employee / official                         1   \n",
              "1  skilled employee / official                         1   \n",
              "2         unskilled - resident                         2   \n",
              "3  skilled employee / official                         2   \n",
              "4  skilled employee / official                         2   \n",
              "\n",
              "                                   telephone foreign_worker  \n",
              "0  yes, registered under the customers name             yes  \n",
              "1                                       none            yes  \n",
              "2                                       none            yes  \n",
              "3                                       none            yes  \n",
              "4                                       none            yes  "
            ]
          },
          "execution_count": 4,
          "metadata": {},
          "output_type": "execute_result"
        }
      ],
      "source": [
        "df_banco = pd.read_csv('german_credit.csv')\n",
        "df_banco.head()"
      ]
    },
    {
      "cell_type": "code",
      "execution_count": 6,
      "metadata": {
        "id": "ucoqC9gm0jP-"
      },
      "outputs": [
        {
          "data": {
            "text/plain": [
              "(1000, 21)"
            ]
          },
          "execution_count": 6,
          "metadata": {},
          "output_type": "execute_result"
        }
      ],
      "source": [
        "df_banco.shape #Me va a mostrar la cantidad de filas y columnas."
      ]
    },
    {
      "cell_type": "code",
      "execution_count": 7,
      "metadata": {},
      "outputs": [
        {
          "data": {
            "text/plain": [
              "Index(['default', 'account_check_status', 'duration_in_month',\n",
              "       'credit_history', 'purpose', 'credit_amount', 'savings',\n",
              "       'present_emp_since', 'installment_as_income_perc',\n",
              "       'personal_status_sex', 'other_debtors', 'present_res_since', 'property',\n",
              "       'age', 'other_installment_plans', 'housing', 'credits_this_bank', 'job',\n",
              "       'people_under_maintenance', 'telephone', 'foreign_worker'],\n",
              "      dtype='object')"
            ]
          },
          "execution_count": 7,
          "metadata": {},
          "output_type": "execute_result"
        }
      ],
      "source": [
        "df_banco.columns"
      ]
    },
    {
      "cell_type": "code",
      "execution_count": 9,
      "metadata": {},
      "outputs": [
        {
          "name": "stdout",
          "output_type": "stream",
          "text": [
            "<class 'pandas.core.frame.DataFrame'>\n",
            "RangeIndex: 1000 entries, 0 to 999\n",
            "Data columns (total 21 columns):\n",
            " #   Column                      Non-Null Count  Dtype \n",
            "---  ------                      --------------  ----- \n",
            " 0   default                     1000 non-null   int64 \n",
            " 1   account_check_status        1000 non-null   object\n",
            " 2   duration_in_month           1000 non-null   int64 \n",
            " 3   credit_history              1000 non-null   object\n",
            " 4   purpose                     1000 non-null   object\n",
            " 5   credit_amount               1000 non-null   int64 \n",
            " 6   savings                     1000 non-null   object\n",
            " 7   present_emp_since           1000 non-null   object\n",
            " 8   installment_as_income_perc  1000 non-null   int64 \n",
            " 9   personal_status_sex         1000 non-null   object\n",
            " 10  other_debtors               1000 non-null   object\n",
            " 11  present_res_since           1000 non-null   int64 \n",
            " 12  property                    1000 non-null   object\n",
            " 13  age                         1000 non-null   int64 \n",
            " 14  other_installment_plans     1000 non-null   object\n",
            " 15  housing                     1000 non-null   object\n",
            " 16  credits_this_bank           1000 non-null   int64 \n",
            " 17  job                         1000 non-null   object\n",
            " 18  people_under_maintenance    1000 non-null   int64 \n",
            " 19  telephone                   1000 non-null   object\n",
            " 20  foreign_worker              1000 non-null   object\n",
            "dtypes: int64(8), object(13)\n",
            "memory usage: 164.2+ KB\n"
          ]
        }
      ],
      "source": [
        "df_banco.info() #Quiero saber que tipo de datos tengo por columna"
      ]
    },
    {
      "cell_type": "code",
      "execution_count": 19,
      "metadata": {},
      "outputs": [
        {
          "name": "stdout",
          "output_type": "stream",
          "text": [
            "account_check_status\n",
            "no checking account                                   394\n",
            "< 0 DM                                                274\n",
            "0 <= ... < 200 DM                                     269\n",
            ">= 200 DM / salary assignments for at least 1 year     63\n",
            "Name: count, dtype: int64\n",
            "----------------------------------------------------------\n",
            "Index(['no checking account', '< 0 DM', '0 <= ... < 200 DM',\n",
            "       '>= 200 DM / salary assignments for at least 1 year'],\n",
            "      dtype='object', name='account_check_status')\n"
          ]
        }
      ],
      "source": [
        "print(df_banco.account_check_status.value_counts())\n",
        "print(\"----------------------------------------------------------\")\n",
        "print(df_banco.account_check_status.value_counts().index)"
      ]
    },
    {
      "cell_type": "code",
      "execution_count": 11,
      "metadata": {},
      "outputs": [
        {
          "data": {
            "text/plain": [
              "['account_check_status',\n",
              " 'credit_history',\n",
              " 'purpose',\n",
              " 'savings',\n",
              " 'present_emp_since',\n",
              " 'personal_status_sex',\n",
              " 'other_debtors',\n",
              " 'property',\n",
              " 'other_installment_plans',\n",
              " 'housing',\n",
              " 'job',\n",
              " 'telephone',\n",
              " 'foreign_worker']"
            ]
          },
          "execution_count": 11,
          "metadata": {},
          "output_type": "execute_result"
        }
      ],
      "source": [
        "columnas = list(df_banco.select_dtypes(include=['object']).columns)\n",
        "columnas"
      ]
    },
    {
      "cell_type": "code",
      "execution_count": 25,
      "metadata": {},
      "outputs": [
        {
          "name": "stdout",
          "output_type": "stream",
          "text": [
            "El nombre de la columna es: account_check_status\n",
            "['no checking account', '< 0 DM', '0 <= ... < 200 DM', '>= 200 DM / salary assignments for at least 1 year']\n",
            "\n",
            "\n",
            "El nombre de la columna es: credit_history\n",
            "['existing credits paid back duly till now', 'critical account/ other credits existing (not at this bank)', 'delay in paying off in the past', 'all credits at this bank paid back duly', 'no credits taken/ all credits paid back duly']\n",
            "\n",
            "\n",
            "El nombre de la columna es: purpose\n",
            "['domestic appliances', 'car (new)', 'radio/television', 'car (used)', 'business', '(vacation - does not exist?)', 'education', 'repairs', 'furniture/equipment', 'retraining']\n",
            "\n",
            "\n",
            "El nombre de la columna es: savings\n",
            "['... < 100 DM', 'unknown/ no savings account', '100 <= ... < 500 DM', '500 <= ... < 1000 DM ', '.. >= 1000 DM ']\n",
            "\n",
            "\n",
            "El nombre de la columna es: present_emp_since\n",
            "['1 <= ... < 4 years', '.. >= 7 years', '4 <= ... < 7 years', '... < 1 year ', 'unemployed']\n",
            "\n",
            "\n",
            "El nombre de la columna es: personal_status_sex\n",
            "['male : single', 'female : divorced/separated/married', 'male : married/widowed', 'male : divorced/separated']\n",
            "\n",
            "\n",
            "El nombre de la columna es: other_debtors\n",
            "['none', 'guarantor', 'co-applicant']\n",
            "\n",
            "\n",
            "El nombre de la columna es: property\n",
            "['if not A121/A122 : car or other, not in attribute 6', 'real estate', 'if not A121 : building society savings agreement/ life insurance', 'unknown / no property']\n",
            "\n",
            "\n",
            "El nombre de la columna es: other_installment_plans\n",
            "['none', 'bank', 'stores']\n",
            "\n",
            "\n",
            "El nombre de la columna es: housing\n",
            "['own', 'rent', 'for free']\n",
            "\n",
            "\n",
            "El nombre de la columna es: job\n",
            "['skilled employee / official', 'unskilled - resident', 'management/ self-employed/ highly qualified employee/ officer', 'unemployed/ unskilled - non-resident']\n",
            "\n",
            "\n",
            "El nombre de la columna es: telephone\n",
            "['none', 'yes, registered under the customers name ']\n",
            "\n",
            "\n",
            "El nombre de la columna es: foreign_worker\n",
            "['yes', 'no']\n",
            "\n",
            "\n"
          ]
        }
      ],
      "source": [
        "for columna in columnas:\n",
        "    print(f'El nombre de la columna es: {columna}')\n",
        "    print(list(df_banco[f'{columna}'].value_counts().index))\n",
        "    print('\\n')"
      ]
    },
    {
      "cell_type": "code",
      "execution_count": 26,
      "metadata": {},
      "outputs": [
        {
          "data": {
            "text/plain": [
              "0      1\n",
              "1      1\n",
              "2      1\n",
              "3      1\n",
              "4      1\n",
              "      ..\n",
              "995    1\n",
              "996    1\n",
              "997    1\n",
              "998    1\n",
              "999    1\n",
              "Name: foreign_worker, Length: 1000, dtype: int64"
            ]
          },
          "execution_count": 26,
          "metadata": {},
          "output_type": "execute_result"
        }
      ],
      "source": [
        "dic = {'yes': 1, 'no': 0}\n",
        "df_banco['foreign_worker'] = df_banco['foreign_worker'].map(dic)\n",
        "df_banco['foreign_worker']"
      ]
    },
    {
      "cell_type": "code",
      "execution_count": null,
      "metadata": {},
      "outputs": [],
      "source": []
    }
  ],
  "metadata": {
    "colab": {
      "provenance": []
    },
    "kernelspec": {
      "display_name": "Python 3",
      "name": "python3"
    },
    "language_info": {
      "codemirror_mode": {
        "name": "ipython",
        "version": 3
      },
      "file_extension": ".py",
      "mimetype": "text/x-python",
      "name": "python",
      "nbconvert_exporter": "python",
      "pygments_lexer": "ipython3",
      "version": "3.12.4"
    }
  },
  "nbformat": 4,
  "nbformat_minor": 0
}
